{
 "cells": [
  {
   "cell_type": "code",
   "execution_count": 2,
   "metadata": {},
   "outputs": [],
   "source": [
    "from qiskit import *\n",
    "import numpy as np\n",
    "#the size of a must be exactly smaller than b by one. How to fix this?\n",
    "#b2 can not make connection with carry 2\n",
    "def logic_adder(qc, a, b, c):\n",
    "    qc.barrier()\n",
    "    n = a.size\n",
    "    for i in range(n-1):\n",
    "        qc.ccx(a[i], b[i], c[i+1])\n",
    "        qc.cx(a[i],b[i])\n",
    "        if i!= 0:\n",
    "            qc.ccx(c[i], b[i], c[i+1])\n",
    "#     qc.barrier()\n",
    "    if a.size - b.size == -1: #when size differene becomes 2, the last qubit of b can not be used currently.\n",
    "        qc.ccx(a[n-1], b[n-1], b[n])\n",
    "        qc.cx(a[n-1], b[n-1])\n",
    "    \n",
    "    if n!= 1:\n",
    "        qc.ccx(c[n-1], b[n-1], b[n])\n",
    "        qc.cx(c[n-1], b[n-1])\n",
    "    \n",
    "#     qc.barrier()\n",
    "    for i in range(n-1):\n",
    "        qc.ccx(c[(n-2)-i], b[(n-2)-i], c[(n-1)-i])\n",
    "        qc.cx(a[(n-2)-i], b[(n-2)-i])\n",
    "        qc.ccx(a[(n-2)-i], b[(n-2)-i], c[(n-1)-i])\n",
    "        qc.cx(c[(n-2)-i], b[(n-2)-i])\n",
    "        qc.cx(a[(n-2)-i], b[(n-2)-i])\n",
    "        qc.ccx(c[i], b[i], c[i+1])\n",
    "#         qc.barrier()"
   ]
  },
  {
   "cell_type": "code",
   "execution_count": 3,
   "metadata": {},
   "outputs": [
    {
     "name": "stdout",
     "output_type": "stream",
     "text": [
      "0\n",
      "3\n",
      "6\n",
      "9\n"
     ]
    }
   ],
   "source": [
    "##Logic adder test\n",
    "for i in range(4):\n",
    "    a = QuantumRegister(3,\"a\")\n",
    "    b = QuantumRegister(4,\"b\")\n",
    "    carry = QuantumRegister(a.size+1,\"carry\")\n",
    "    cl = ClassicalRegister(4) #Classical output\n",
    "    qc = QuantumCircuit(a,b, carry, cl)\n",
    "\n",
    "    for index,j in enumerate(bin(i)[2:][::-1]):\n",
    "        if j == \"1\":\n",
    "            qc.x(a[index])\n",
    "            qc.x(b[index+1])\n",
    "\n",
    "    logic_adder(qc, a,b, carry)\n",
    "    \n",
    "    for j in range(b.size):\n",
    "        qc.measure(b[j], cl[j])\n",
    "\n",
    "    num_shots = 1 #Setting the number of times to repeat measurement\n",
    "    backend = Aer.get_backend(\"qasm_simulator\")\n",
    "    job = execute(qc, backend, shots=num_shots)\n",
    "    #Get results of program\n",
    "    job_stats = job.result().get_counts()\n",
    "    print(int(list(job_stats.keys())[0],2))"
   ]
  },
  {
   "cell_type": "code",
   "execution_count": null,
   "metadata": {},
   "outputs": [],
   "source": []
  }
 ],
 "metadata": {
  "kernelspec": {
   "display_name": "Python 3",
   "language": "python",
   "name": "python3"
  },
  "language_info": {
   "codemirror_mode": {
    "name": "ipython",
    "version": 3
   },
   "file_extension": ".py",
   "mimetype": "text/x-python",
   "name": "python",
   "nbconvert_exporter": "python",
   "pygments_lexer": "ipython3",
   "version": "3.8.5"
  }
 },
 "nbformat": 4,
 "nbformat_minor": 4
}
